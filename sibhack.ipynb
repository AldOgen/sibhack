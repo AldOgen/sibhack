{
 "cells": [
  {
   "cell_type": "code",
   "execution_count": 1,
   "id": "504ba7e2",
   "metadata": {
    "cellId": "i72ckyy75f2sx26968dhj"
   },
   "outputs": [],
   "source": [
    "#!c1.8\n",
    "import os\n",
    "import pandas as pd\n",
    "import numpy as np\n",
    "from catboost import CatBoostRegressor\n",
    "import sklearn\n",
    "from sklearn.preprocessing import StandardScaler, LabelEncoder, OneHotEncoder, PolynomialFeatures\n",
    "from sklearn.linear_model import LinearRegression, Lasso, Ridge, ElasticNet\n",
    "from sklearn.neighbors import KNeighborsRegressor\n",
    "from sklearn.model_selection import train_test_split, cross_validate\n",
    "from sklearn.compose import make_column_transformer\n",
    "from sklearn.metrics import mean_absolute_error\n",
    "\n",
    "import matplotlib.pyplot as plt\n",
    "import seaborn as sns\n",
    "\n",
    "sns.set_theme(style=\"whitegrid\")"
   ]
  },
  {
   "cell_type": "code",
   "execution_count": 2,
   "id": "35a02106",
   "metadata": {
    "cellId": "9qp52m10v83uj85hqahxk"
   },
   "outputs": [],
   "source": [
    "#!c1.8\n",
    "DATA_DIR = \"data\"\n",
    "\n",
    "covid_data_train = pd.read_csv(os.path.join(DATA_DIR, \"covid_data_train.csv\"), sep=\",\", index_col=0).rename_axis(index=None)\n",
    "covid_data_test = pd.read_csv(os.path.join(DATA_DIR, \"covid_data_test.csv\"), sep=\",\")\n",
    "answer = covid_data_test[[\"Unnamed: 0\"]]\n",
    "covid_data_test = covid_data_test.drop(columns=[\"Unnamed: 0\"])"
   ]
  },
  {
   "cell_type": "code",
   "execution_count": 3,
   "id": "76425ec2",
   "metadata": {
    "cellId": "tt1t6gg9u4izn55cgn6h"
   },
   "outputs": [],
   "source": [
    "#!c1.8\n",
    "def filter_is_not_nan_targat(dataframe, target_name):\n",
    "    return dataframe[dataframe[target_name].notnull()]"
   ]
  },
  {
   "cell_type": "code",
   "execution_count": null,
   "id": "85705b2b",
   "metadata": {
    "cellId": "u1eggv0vyytoujzosi9ne",
    "execution_id": "a1e49f5e-cfb5-4f75-b487-2f1f6d90fd62"
   },
   "outputs": [],
   "source": [
    "#!c1.8\n",
    "def drop_defect_rows(dataset, drop=False, unique=False):\n",
    "    dataset = dataset.copy()\n",
    "    \n",
    "    drops = [\n",
    "        \"Алушта\", \"Евпатория\", \"Керчь\"\n",
    "    ]\n",
    "    \n",
    "    uniques = [\n",
    "        (\"Белогорск\", \"Южный\"), (\"Благовещенск\", \"Приволжский\"), \n",
    "        (\"Гурьевск\", \"Сибирский\"), (\"Заречный\", \"Приволжский\"), \n",
    "        (\"Киров\", \"Приволжский\"), (\"Красноармейск\", \"Приволжский\"),\n",
    "        (\"Краснослободск\", \"Приволжский\")\n",
    "    ]\n",
    "    \n",
    "    dataset = dataset.drop_duplicates()\n",
    "    \n",
    "    if drop:\n",
    "        dataset = dataset.query(f\"name not in {drops}\")\n",
    "    else:\n",
    "        for drop in drops:\n",
    "            drop_rows = dataset.query(f\"name == '{drop}'\")\n",
    "            inf_rate = np.mean(drop_rows[\"inf_rate\"])\n",
    "            drop_rows = drop_rows.iloc[0]\n",
    "            drop_rows[\"inf_rate\"] = inf_rate\n",
    "            dataset = dataset.query(f\"name != '{drop}'\")\n",
    "            dataset = dataset.append(drop_rows, ignore_index=True)\n",
    "    \n",
    "    if unique:\n",
    "        for name, district in uniques:\n",
    "            dataset = dataset.query(f\"name != '{name}' or district != '{district}'\")\n",
    "        \n",
    "    return dataset"
   ]
  },
  {
   "cell_type": "code",
   "execution_count": null,
   "id": "f78d5c5d",
   "metadata": {
    "cellId": "hg5ktw1k45svztpm6bfrvl",
    "execution_id": "e20f8dfb-10ba-435b-8845-654d26a8595b"
   },
   "outputs": [],
   "source": [
    "#!c1.8\n",
    "covid_data_train = filter_is_not_nan_targat(covid_data_train, \"inf_rate\")\n",
    "covid_data_train = drop_defect_rows(covid_data_train, drop=True, unique=True)"
   ]
  },
  {
   "cell_type": "code",
   "execution_count": null,
   "id": "cd997fbd",
   "metadata": {
    "cellId": "87oxt3dcrpwg08komx2tyh",
    "execution_id": "4949fd7b-f546-47e3-b417-7a6dff7a831b"
   },
   "outputs": [],
   "source": [
    "#!c1.8\n",
    "covid_data_train = covid_data_train.drop(columns=[\"name\", \"region_x\"])\n",
    "covid_data_test = covid_data_test.drop(columns=[\"name\", \"region_x\"])"
   ]
  },
  {
   "cell_type": "code",
   "execution_count": null,
   "id": "765fc10d",
   "metadata": {
    "cellId": "8wcu3879dt6ovlz2cqssrb",
    "execution_id": "2a82ad2e-136e-46d3-b66f-613684c220ac"
   },
   "outputs": [],
   "source": [
    "#!c1.8\n",
    "nans_count_train = covid_data_train.drop(columns=[\"inf_rate\"]).isnull().sum(axis=0).sort_values(ascending=False)\n",
    "nans_count_test = covid_data_test.drop(columns=[\"inf_rate\"]).isnull().sum(axis=0).sort_values(ascending=False)\n",
    "\n",
    "\n",
    "# f, axs = plt.subplots(figsize=(16, 30), ncols=2)\n",
    "# sns.barplot(x=nans_count_train.values, y=nans_count_train.index, ax=axs[0])\n",
    "# sns.barplot(x=nans_count_test.values, y=nans_count_test.index, ax=axs[1]);"
   ]
  },
  {
   "cell_type": "code",
   "execution_count": null,
   "id": "611a8169",
   "metadata": {
    "cellId": "sq3jg6jnve8cugygbi2su",
    "execution_id": "b7865dc0-13be-4428-b35e-3b6a8e7bc7ed"
   },
   "outputs": [],
   "source": [
    "#!c1.8\n",
    "covid_data_train[\"has_metro\"] = covid_data_train[\"has_metro\"].astype(int)\n",
    "covid_data_test[\"has_metro\"] = covid_data_test[\"has_metro\"].astype(int)"
   ]
  },
  {
   "cell_type": "code",
   "execution_count": null,
   "id": "d9ff3f45",
   "metadata": {
    "cellId": "7s0nc8soj8mvcbstxmbzoi",
    "execution_id": "703c8533-18dc-4854-b7bb-541e8aa70505"
   },
   "outputs": [],
   "source": [
    "#!c1.8\n",
    "categories_columns = [\"district\", \"subject\", \"has_metro\"]\n",
    "target_column = [\"inf_rate\"]"
   ]
  },
  {
   "cell_type": "code",
   "execution_count": null,
   "id": "893c1fe5",
   "metadata": {
    "cellId": "oy6ylosn9p3qndosn09lo",
    "execution_id": "895b0a1e-7b73-4a15-a709-959eaf3b1c8d"
   },
   "outputs": [],
   "source": [
    "#!c1.8\n",
    "columns_is_nan_train = nans_count_train[nans_count_train > 0].index\n",
    "columns_is_nan_test = nans_count_test[nans_count_test > 0].index\n",
    "\n",
    "columns_is_nan = np.union1d(columns_is_nan_train, columns_is_nan_test)\n",
    "\n",
    "clean_covid_data_train = covid_data_train.drop(columns=columns_is_nan)\n",
    "clean_covid_data_test = covid_data_test.drop(columns=columns_is_nan)"
   ]
  },
  {
   "cell_type": "markdown",
   "id": "646589ae",
   "metadata": {
    "cellId": "g1v1ylwhjg6trg6r1wnp3",
    "execution_id": "db8a64f0-5ce1-4cff-b629-358096c5ec62"
   },
   "source": [
    "# Обучение модели"
   ]
  },
  {
   "cell_type": "code",
   "execution_count": null,
   "id": "301d6f96",
   "metadata": {
    "cellId": "tcm1693ejorhmmseoa7hgi",
    "execution_id": "44bbad4b-c69e-46c5-90d5-daee4aa33096"
   },
   "outputs": [],
   "source": [
    "#!c1.8\n",
    "data_train = clean_covid_data_train.drop(columns=target_column)\n",
    "target_train = clean_covid_data_train[target_column]\n",
    "\n",
    "data_test = clean_covid_data_test.drop(columns=target_column)"
   ]
  },
  {
   "cell_type": "code",
   "execution_count": null,
   "id": "46b265e8",
   "metadata": {
    "cellId": "gw56s7jst3g9ooj2d2sxln",
    "execution_id": "2a319fd1-76ed-4449-84c1-e05799e506d3"
   },
   "outputs": [],
   "source": [
    "#!c1.8\n",
    "def transform_cat_features(dataset_input, transformer):\n",
    "    dataset = dataset_input.copy()\n",
    "\n",
    "    transformed = transformer.transform(dataset).toarray()\n",
    "    new_columns = transformer.get_feature_names_out().tolist()\n",
    "    \n",
    "    for i in range(len(new_columns)):\n",
    "        dataset[new_columns[i]] = transformed[:, i]\n",
    "    \n",
    "    dataset = dataset.drop(columns=['district', 'subject'])\n",
    "\n",
    "    return dataset"
   ]
  },
  {
   "cell_type": "code",
   "execution_count": null,
   "id": "9c8a5577",
   "metadata": {
    "cellId": "xtogjjdwu92lfx5dnqx5r",
    "execution_id": "958bc800-c319-465f-af29-726f349ff08f"
   },
   "outputs": [],
   "source": [
    "#!c1.8\n",
    "# districts = np.union1d(data_train[\"district\"].unique(), data_test[\"district\"].unique()).reshape(-1, 1)\n",
    "# subjects = np.union1d(data_train[\"subject\"].unique(), data_test[\"subject\"].unique()).reshape(-1, 1)"
   ]
  },
  {
   "cell_type": "code",
   "execution_count": null,
   "id": "b266e930",
   "metadata": {
    "cellId": "55cnv1lgczez45pk5bx8s",
    "execution_id": "35ecfc4e-d9f9-4e59-b872-221e616cf71c"
   },
   "outputs": [],
   "source": [
    "#!c1.8\n",
    "district_subject_dataset = pd.concat([data_train, data_test], sort=False)[['district', 'subject']]"
   ]
  },
  {
   "cell_type": "code",
   "execution_count": null,
   "id": "d2370942",
   "metadata": {
    "cellId": "r4bnly1zcdjp30erejaj4j",
    "execution_id": "c19f4dc6-6739-4301-97e9-c53be09d0016"
   },
   "outputs": [],
   "source": [
    "#!c1.8\n",
    "X_cat_train = data_train[categories_columns]\n",
    "X_num_train = data_train.drop(columns=categories_columns)\n",
    "y_train = target_train.values\n",
    "\n",
    "X_cat_test = data_test[categories_columns]\n",
    "X_num_test = data_test.drop(columns=categories_columns)"
   ]
  },
  {
   "cell_type": "code",
   "execution_count": 16,
   "id": "3bea2a2c",
   "metadata": {
    "cellId": "7dlmb9anu3739pm4tfb1vx"
   },
   "outputs": [],
   "source": [
    "#!c1.8\n",
    "scaler = StandardScaler()\n",
    "transformer = make_column_transformer((OneHotEncoder(), ['district', 'subject'])).fit(district_subject_dataset)\n",
    "\n",
    "X_cat_train = transform_cat_features(X_cat_train, transformer=transformer)\n",
    "X_num_train = scaler.fit_transform(X_num_train)\n",
    "X_train = np.hstack((X_num_train, X_cat_train))\n",
    "\n",
    "X_cat_test = transform_cat_features(X_cat_test, transformer=transformer)\n",
    "X_num_test = scaler.transform(X_num_test)\n",
    "X_test = np.hstack((X_num_test, X_cat_test))"
   ]
  },
  {
   "cell_type": "code",
   "execution_count": 17,
   "id": "42042a0d",
   "metadata": {
    "cellId": "ysv3g159ulsxckjb1hv69"
   },
   "outputs": [
    {
     "data": {
      "text/plain": [
       "0.002458757608061094"
      ]
     },
     "execution_count": 17,
     "metadata": {},
     "output_type": "execute_result"
    }
   ],
   "source": [
    "#!c1.8\n",
    "model = Ridge(alpha=0.01)\n",
    "cv_score_lin = cross_validate(model, X_train, y_train, cv=30, scoring=\"neg_mean_absolute_error\")\n",
    "np.mean(-cv_score_lin[\"test_score\"])"
   ]
  },
  {
   "cell_type": "code",
   "execution_count": 18,
   "id": "31d47fbe",
   "metadata": {
    "cellId": "qm3iqo255an53gam02epvo"
   },
   "outputs": [],
   "source": [
    "#!c1.8\n",
    "model.fit(X_train, y_train)\n",
    "y_test = np.clip(model.predict(X_test), 0.5, 5)"
   ]
  },
  {
   "cell_type": "code",
   "execution_count": 19,
   "id": "942fe35b",
   "metadata": {
    "cellId": "bstsd202f2fsf9adrwxpr"
   },
   "outputs": [
    {
     "data": {
      "text/plain": [
       "(0.6930132116072885, 5.0)"
      ]
     },
     "execution_count": 19,
     "metadata": {},
     "output_type": "execute_result"
    }
   ],
   "source": [
    "#!c1.8\n",
    "y_test.min(), y_test.max()"
   ]
  },
  {
   "cell_type": "code",
   "execution_count": 20,
   "id": "861bd540",
   "metadata": {
    "cellId": "v9mlqz9c1tbo8wfus8di"
   },
   "outputs": [
    {
     "data": {
      "text/plain": [
       "(0.6931471805599453, 4.718498871295094)"
      ]
     },
     "execution_count": 20,
     "metadata": {},
     "output_type": "execute_result"
    }
   ],
   "source": [
    "#!c1.8\n",
    "y_train.min(), y_train.max()"
   ]
  },
  {
   "cell_type": "code",
   "execution_count": 21,
   "id": "aa1ef77e",
   "metadata": {
    "cellId": "b9wzc6ycfbfbfuj97d9pvo"
   },
   "outputs": [],
   "source": [
    "#!c1.8\n",
    "answer[\"inf_rate\"] = y_test\n",
    "answer.to_csv(\"answer.csv\", index=False)"
   ]
  },
  {
   "cell_type": "code",
   "execution_count": null,
   "id": "55d876f8",
   "metadata": {
    "cellId": "9ctvc6z2z5goyjh9w7ijvp"
   },
   "outputs": [],
   "source": [
    "#!c1.8\n"
   ]
  }
 ],
 "metadata": {
  "language_info": {
   "codemirror_mode": {
    "name": "ipython",
    "version": 3
   },
   "file_extension": ".py",
   "mimetype": "text/x-python",
   "name": "python",
   "nbconvert_exporter": "python",
   "pygments_lexer": "ipython3",
   "version": "3.7.7"
  },
  "notebookId": "ae0d7d67-afd5-4be3-8ab4-a291043330bf",
  "notebookPath": "Untitled1.ipynb"
 },
 "nbformat": 4,
 "nbformat_minor": 5
}
