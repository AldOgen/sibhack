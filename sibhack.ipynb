{
  "nbformat" : 4,
  "nbformat_minor" : 5,
  "metadata" : {
    "notebookPath" : "sibhack.ipynb",
    "language_info" : {
      "codemirror_mode" : {
        "name" : "ipython",
        "version" : 3
      },
      "file_extension" : ".py",
      "mimetype" : "text/x-python",
      "name" : "python",
      "nbconvert_exporter" : "python",
      "pygments_lexer" : "ipython3",
      "version" : "3.7.7"
    },
    "notebookId" : "ae0d7d67-afd5-4be3-8ab4-a291043330bf",
    "kernelspec" : {
      "name" : "python3",
      "description" : "IPython kernel implementation for Yandex DataSphere",
      "spec" : {
        "language" : "python",
        "display_name" : "Yandex DataSphere Kernel",
        "codemirror_mode" : "python",
        "argv" : [ "/bin/true" ],
        "env" : { },
        "help_links" : [ ]
      },
      "resources" : { },
      "display_name" : "Yandex DataSphere Kernel"
    }
  },
  "cells" : [ {
    "cell_type" : "code",
    "source" : [ "#!c1.8\n", "import os\n", "import pickle\n", "import pandas as pd\n", "import numpy as np\n", "from catboost import CatBoostRegressor\n", "import sklearn\n", "from sklearn.preprocessing import StandardScaler, OneHotEncoder\n", "from sklearn.linear_model import Ridge\n", "from sklearn.model_selection import cross_validate\n", "from sklearn.compose import make_column_transformer\n", "\n", "import matplotlib.pyplot as plt\n", "import seaborn as sns\n", "\n", "sns.set_theme(style=\"whitegrid\")" ],
    "metadata" : {
      "cellId" : "i72ckyy75f2sx26968dhj"
    },
    "outputs" : [ ],
    "execution_count" : 1,
    "id" : "9ae877f5"
  }, {
    "cell_type" : "code",
    "source" : [ "#!c1.8\n", "DATA_DIR = \"data\"\n", "\n", "covid_data_train = pd.read_csv(os.path.join(DATA_DIR, \"covid_data_train.csv\"), sep=\",\", index_col=0).rename_axis(index=None)\n", "covid_data_test = pd.read_csv(os.path.join(DATA_DIR, \"covid_data_test.csv\"), sep=\",\")\n", "answer = covid_data_test[[\"Unnamed: 0\"]]\n", "covid_data_test = covid_data_test.drop(columns=[\"Unnamed: 0\"])" ],
    "metadata" : {
      "cellId" : "9qp52m10v83uj85hqahxk"
    },
    "outputs" : [ ],
    "execution_count" : 2,
    "id" : "11e36e46"
  }, {
    "cell_type" : "code",
    "source" : [ "#!c1.8\n", "def filter_is_not_nan_targat(dataframe, target_name):\n", "    return dataframe[dataframe[target_name].notnull()]" ],
    "metadata" : {
      "cellId" : "tt1t6gg9u4izn55cgn6h"
    },
    "outputs" : [ ],
    "execution_count" : 3,
    "id" : "a7a0cf52"
  }, {
    "cell_type" : "code",
    "source" : [ "#!c1.8\n", "def drop_defect_rows(dataset, drop=False, unique=False):\n", "    dataset = dataset.copy()\n", "    \n", "    drops = [\n", "        \"Алушта\", \"Евпатория\", \"Керчь\"\n", "    ]\n", "    \n", "    uniques = [\n", "        (\"Белогорск\", \"Южный\"), (\"Благовещенск\", \"Приволжский\"), \n", "        (\"Гурьевск\", \"Сибирский\"), (\"Заречный\", \"Приволжский\"), \n", "        (\"Киров\", \"Приволжский\"), (\"Красноармейск\", \"Приволжский\"),\n", "        (\"Краснослободск\", \"Приволжский\")\n", "    ]\n", "    \n", "    dataset = dataset.drop_duplicates()\n", "    \n", "    if drop:\n", "        dataset = dataset.query(f\"name not in {drops}\")\n", "    else:\n", "        for drop in drops:\n", "            drop_rows = dataset.query(f\"name == '{drop}'\")\n", "            inf_rate = np.mean(drop_rows[\"inf_rate\"])\n", "            drop_rows = drop_rows.iloc[0]\n", "            drop_rows[\"inf_rate\"] = inf_rate\n", "            dataset = dataset.query(f\"name != '{drop}'\")\n", "            dataset = dataset.append(drop_rows, ignore_index=True)\n", "    \n", "    if unique:\n", "        for name, district in uniques:\n", "            dataset = dataset.query(f\"name != '{name}' or district != '{district}'\")\n", "        \n", "    return dataset" ],
    "metadata" : {
      "cellId" : "u1eggv0vyytoujzosi9ne"
    },
    "outputs" : [ ],
    "execution_count" : 4,
    "id" : "3b920d5b"
  }, {
    "cell_type" : "code",
    "source" : [ "#!c1.8\n", "covid_data_train = filter_is_not_nan_targat(covid_data_train, \"inf_rate\")\n", "covid_data_train = drop_defect_rows(covid_data_train, drop=True, unique=True)" ],
    "metadata" : {
      "cellId" : "hg5ktw1k45svztpm6bfrvl"
    },
    "outputs" : [ ],
    "execution_count" : 5,
    "id" : "9ea08328"
  }, {
    "cell_type" : "code",
    "source" : [ "#!c1.8\n", "covid_data_train = covid_data_train.drop(columns=[\"name\", \"region_x\"])\n", "covid_data_test = covid_data_test.drop(columns=[\"name\", \"region_x\"])" ],
    "metadata" : {
      "cellId" : "87oxt3dcrpwg08komx2tyh"
    },
    "outputs" : [ ],
    "execution_count" : 6,
    "id" : "2ca08c50"
  }, {
    "cell_type" : "code",
    "source" : [ "#!c1.8\n", "covid_data_train[\"has_metro\"] = covid_data_train[\"has_metro\"].astype(int)\n", "covid_data_test[\"has_metro\"] = covid_data_test[\"has_metro\"].astype(int)" ],
    "metadata" : {
      "cellId" : "sq3jg6jnve8cugygbi2su"
    },
    "outputs" : [ ],
    "execution_count" : 7,
    "id" : "2688f635"
  }, {
    "cell_type" : "code",
    "source" : [ "#!c1.8\n", "nans_count_train = covid_data_train.drop(columns=[\"inf_rate\"]).isnull().sum(axis=0).sort_values(ascending=False)\n", "nans_count_test = covid_data_test.drop(columns=[\"inf_rate\"]).isnull().sum(axis=0).sort_values(ascending=False)" ],
    "metadata" : {
      "cellId" : "8wcu3879dt6ovlz2cqssrb"
    },
    "outputs" : [ ],
    "execution_count" : 8,
    "id" : "b34ccaaa"
  }, {
    "cell_type" : "code",
    "source" : [ "#!c1.8\n", "columns_is_nan_train = nans_count_train[nans_count_train > 0].index\n", "columns_is_nan_test = nans_count_test[nans_count_test > 0].index\n", "\n", "columns_is_nan = np.union1d(columns_is_nan_train, columns_is_nan_test)\n", "\n", "clean_covid_data_train = covid_data_train.drop(columns=columns_is_nan)\n", "clean_covid_data_test = covid_data_test.drop(columns=columns_is_nan)" ],
    "metadata" : {
      "cellId" : "oy6ylosn9p3qndosn09lo"
    },
    "outputs" : [ ],
    "execution_count" : 9,
    "id" : "75c2a755"
  }, {
    "cell_type" : "code",
    "source" : [ "#!c1.8\n", "target_column = [\"inf_rate\"]\n", "categories_columns = [\"district\", \"subject\", \"has_metro\"]\n", "num_columns = clean_covid_data_train.columns.drop(categories_columns + target_column).tolist()" ],
    "metadata" : {
      "cellId" : "7s0nc8soj8mvcbstxmbzoi"
    },
    "outputs" : [ ],
    "execution_count" : 10,
    "id" : "621933c1"
  }, {
    "cell_type" : "markdown",
    "source" : [ "# Обучение модели" ],
    "metadata" : {
      "cellId" : "g1v1ylwhjg6trg6r1wnp3",
      "execution_id" : "c91d8b8d-c3c2-462f-b0be-f99e989091e2"
    },
    "id" : "dabc527e"
  }, {
    "cell_type" : "code",
    "source" : [ "#!c1.8\n", "def predict_mean_subject_inf_rate(model, scaler, covid_data_train, covid_data_test, num_columns, target_column):\n", "    data_train = covid_data_train.groupby('subject')[num_columns + target_column].apply(np.mean)\n", "    data_test = covid_data_test.groupby('subject')[num_columns + target_column].apply(np.mean)\n", "    \n", "    X_train = data_train.drop(columns=target_column)\n", "    y_train = data_train[target_column]\n", "\n", "    X_test = data_test.drop(columns=target_column)\n", "\n", "    X_train[X_train.columns] = scaler.fit_transform(X_train)\n", "    X_test[X_test.columns] = scaler.transform(X_test)\n", "    \n", "    model.fit(X_train, y_train)\n", "    y_pred_train = pd.Series(data=model.predict(X_train).ravel(), index=X_train.index, name=\"inf_rate_subject\")\n", "    y_pred_test = pd.Series(data=model.predict(X_test).ravel(), index=X_test.index, name=\"inf_rate_subject\")\n", "    \n", "    return y_pred_train, y_pred_test" ],
    "metadata" : {
      "cellId" : "j1ihh06e3zexmh9t0kpua"
    },
    "outputs" : [ ],
    "execution_count" : 11,
    "id" : "bd06ed76"
  }, {
    "cell_type" : "code",
    "source" : [ "#!c1.8\n", "subject_inf_rate_model = Ridge(alpha=0.05)\n", "sub_scaler = StandardScaler()" ],
    "metadata" : {
      "cellId" : "nbinlma0fwnw3yfb2un8f"
    },
    "outputs" : [ ],
    "execution_count" : 12,
    "id" : "fefb628c"
  }, {
    "cell_type" : "code",
    "source" : [ "#!c1.8\n", "subject_inf_rate_train, subject_inf_rate_test = predict_mean_subject_inf_rate(subject_inf_rate_model, sub_scaler, covid_data_train, clean_covid_data_test, num_columns, target_column)" ],
    "metadata" : {
      "cellId" : "ghq8wmghn7hzj3ll6o2ql"
    },
    "outputs" : [ ],
    "execution_count" : 13,
    "id" : "eebdda3a"
  }, {
    "cell_type" : "code",
    "source" : [ "#!c1.8\n", "data_train = clean_covid_data_train.drop(columns=target_column)\n", "target_train = clean_covid_data_train[target_column]\n", "\n", "data_test = clean_covid_data_test.drop(columns=target_column)\n", "\n", "data_train = data_train.join(subject_inf_rate_train, on='subject')\n", "data_test = data_test.join(subject_inf_rate_test, on='subject')" ],
    "metadata" : {
      "cellId" : "vy9o4o905umk00qwuq1wp"
    },
    "outputs" : [ ],
    "execution_count" : 14,
    "id" : "fca8c6c4"
  }, {
    "cell_type" : "code",
    "source" : [ "#!c1.8\n", "def transform_cat_features(dataset_input, transformer):\n", "    dataset = dataset_input.copy()\n", "\n", "    transformed = transformer.transform(dataset).toarray()\n", "    new_columns = transformer.get_feature_names_out().tolist()\n", "    \n", "    for i in range(len(new_columns)):\n", "        dataset[new_columns[i]] = transformed[:, i]\n", "    \n", "    dataset = dataset.drop(columns=['district', 'subject'])\n", "\n", "    return dataset" ],
    "metadata" : {
      "cellId" : "gw56s7jst3g9ooj2d2sxln"
    },
    "outputs" : [ ],
    "execution_count" : 15,
    "id" : "bf76ff36"
  }, {
    "cell_type" : "code",
    "source" : [ "#!c1.8\n", "district_subject_dataset = pd.concat([data_train, data_test], sort=False)[['district', 'subject']]" ],
    "metadata" : {
      "cellId" : "55cnv1lgczez45pk5bx8s"
    },
    "outputs" : [ ],
    "execution_count" : 16,
    "id" : "394152ef"
  }, {
    "cell_type" : "code",
    "source" : [ "#!c1.8\n", "X_cat_train = data_train[categories_columns]\n", "X_num_train = data_train.drop(columns=categories_columns)\n", "y_train = target_train.values\n", "\n", "X_cat_test = data_test[categories_columns]\n", "X_num_test = data_test.drop(columns=categories_columns)" ],
    "metadata" : {
      "cellId" : "r4bnly1zcdjp30erejaj4j"
    },
    "outputs" : [ ],
    "execution_count" : 17,
    "id" : "cd0b959f"
  }, {
    "cell_type" : "code",
    "source" : [ "#!c1.8\n", "main_scaler = StandardScaler()\n", "transformer = make_column_transformer((OneHotEncoder(), ['district', 'subject'])).fit(district_subject_dataset)\n", "\n", "X_cat_train = transform_cat_features(X_cat_train, transformer=transformer)\n", "X_num_train = main_scaler.fit_transform(X_num_train)\n", "X_train = np.hstack((X_num_train, X_cat_train))\n", "\n", "X_cat_test = transform_cat_features(X_cat_test, transformer=transformer)\n", "X_num_test = main_scaler.transform(X_num_test)\n", "X_test = np.hstack((X_num_test, X_cat_test))" ],
    "metadata" : {
      "cellId" : "7dlmb9anu3739pm4tfb1vx"
    },
    "outputs" : [ ],
    "execution_count" : 18,
    "id" : "b0bc5d2c"
  }, {
    "cell_type" : "code",
    "source" : [ "#!c1.8\n", "main_model = Ridge(alpha=0.01)\n", "cv_score_lin = cross_validate(main_model, X_train, y_train, cv=30, scoring=\"neg_mean_absolute_error\")\n", "print(f\"{np.mean(-cv_score_lin['test_score']):.6f}\")" ],
    "metadata" : {
      "cellId" : "ysv3g159ulsxckjb1hv69"
    },
    "outputs" : [ {
      "name" : "stdout",
      "output_type" : "stream",
      "text" : [ "0.001611\n" ]
    } ],
    "execution_count" : 19,
    "id" : "3a8f8a82"
  }, {
    "cell_type" : "code",
    "source" : [ "#!c1.8\n", "main_model.fit(X_train, y_train)\n", "y_test = np.clip(main_model.predict(X_test), 0.5, 5)" ],
    "metadata" : {
      "cellId" : "qm3iqo255an53gam02epvo"
    },
    "outputs" : [ ],
    "execution_count" : 20,
    "id" : "c4b1c9b8"
  }, {
    "cell_type" : "code",
    "source" : [ "#!c1.8\n", "y_test.min(), y_test.max()" ],
    "metadata" : {
      "cellId" : "bstsd202f2fsf9adrwxpr"
    },
    "outputs" : [ {
      "data" : {
        "text/plain" : [ "(0.5, 5.0)" ]
      },
      "execution_count" : 21,
      "metadata" : { },
      "output_type" : "execute_result"
    } ],
    "execution_count" : 21,
    "id" : "3c6253b5"
  }, {
    "cell_type" : "code",
    "source" : [ "#!c1.8\n", "y_train.min(), y_train.max()" ],
    "metadata" : {
      "cellId" : "v9mlqz9c1tbo8wfus8di"
    },
    "outputs" : [ {
      "data" : {
        "text/plain" : [ "(0.6931471805599453, 4.718498871295094)" ]
      },
      "execution_count" : 22,
      "metadata" : { },
      "output_type" : "execute_result"
    } ],
    "execution_count" : 22,
    "id" : "8bf8ff79"
  }, {
    "cell_type" : "code",
    "source" : [ "#!c1.8\n", "answer[\"inf_rate\"] = y_test\n", "answer.to_csv(\"answer.csv\", index=False)" ],
    "metadata" : {
      "cellId" : "b9wzc6ycfbfbfuj97d9pvo"
    },
    "outputs" : [ ],
    "execution_count" : 23,
    "id" : "cee5428e"
  }, {
    "cell_type" : "code",
    "source" : [ "#!c1.8\n", "with open('main_model.pickle', 'wb') as file:\n", "    pickle.dump(main_model, file)\n", "\n", "with open('main_scaler.pickle', 'wb') as file:\n", "    pickle.dump(main_scaler, file)  \n", "    \n", "with open('transformer.pickle', 'wb') as file:\n", "    pickle.dump(transformer, file)    \n", "    \n", "with open('subject_inf_rate_model.pickle', 'wb') as file:\n", "     pickle.dump(subject_inf_rate_model, file)\n", "        \n", "with open('sub_scaler.pickle', 'wb') as file:\n", "    pickle.dump(sub_scaler, file) " ],
    "metadata" : {
      "cellId" : "wvh842jvq98yl72hskxekf"
    },
    "outputs" : [ ],
    "execution_count" : 24,
    "id" : "c69e4dfb"
  } ]
}